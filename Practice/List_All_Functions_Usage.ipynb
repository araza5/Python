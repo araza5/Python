{
 "cells": [
  {
   "cell_type": "code",
   "execution_count": 2,
   "metadata": {},
   "outputs": [
    {
     "data": {
      "text/plain": [
       "['Ali',\n",
       " 'Khadim',\n",
       " 'Hassan',\n",
       " 'Murtaza',\n",
       " 'Nash',\n",
       " 'Atta',\n",
       " 'Junaid',\n",
       " 'Raheel',\n",
       " 'Khurram',\n",
       " 'Asad']"
      ]
     },
     "execution_count": 2,
     "metadata": {},
     "output_type": "execute_result"
    }
   ],
   "source": [
    "lst = [\"Ali\", \"Khadim\",\"Hassan\",\"Murtaza\",\"Nash\"]\n",
    "lst2 = [\"Atta\", \"Junaid\", \"Raheel\", \"Khurram\", \"Asad\"]\n",
    "lst+lst2"
   ]
  },
  {
   "cell_type": "code",
   "execution_count": 9,
   "metadata": {},
   "outputs": [
    {
     "data": {
      "text/plain": [
       "['Ali', 'Khadim', 'Hassan', 'Murtaza', 'Nash', 'Ahmad']"
      ]
     },
     "execution_count": 9,
     "metadata": {},
     "output_type": "execute_result"
    }
   ],
   "source": [
    "lst.clear()\n",
    "lst2.clear()\n",
    "lst = [\"Ali\", \"Khadim\",\"Hassan\",\"Murtaza\",\"Nash\"]\n",
    "lst2 = [\"Atta\", \"Junaid\", \"Raheel\", \"Khurram\", \"Asad\"]\n",
    "lst.append(\"Ahmad\")\n",
    "lst"
   ]
  },
  {
   "cell_type": "code",
   "execution_count": 10,
   "metadata": {},
   "outputs": [
    {
     "data": {
      "text/plain": [
       "[]"
      ]
     },
     "execution_count": 10,
     "metadata": {},
     "output_type": "execute_result"
    }
   ],
   "source": [
    "lst.clear()\n",
    "lst"
   ]
  },
  {
   "cell_type": "code",
   "execution_count": 11,
   "metadata": {},
   "outputs": [
    {
     "data": {
      "text/plain": [
       "['Ali', 'Khadim', 'Hassan', 'Murtaza', 'Nash']"
      ]
     },
     "execution_count": 11,
     "metadata": {},
     "output_type": "execute_result"
    }
   ],
   "source": [
    "lst = [\"Ali\", \"Khadim\",\"Hassan\",\"Murtaza\",\"Nash\"]\n",
    "lst3 = lst.copy()\n",
    "lst3"
   ]
  },
  {
   "cell_type": "code",
   "execution_count": 12,
   "metadata": {},
   "outputs": [
    {
     "data": {
      "text/plain": [
       "1"
      ]
     },
     "execution_count": 12,
     "metadata": {},
     "output_type": "execute_result"
    }
   ],
   "source": [
    "lst.count(\"Ali\")"
   ]
  },
  {
   "cell_type": "code",
   "execution_count": 13,
   "metadata": {},
   "outputs": [
    {
     "data": {
      "text/plain": [
       "['Ali',\n",
       " 'Khadim',\n",
       " 'Hassan',\n",
       " 'Murtaza',\n",
       " 'Nash',\n",
       " 'Atta',\n",
       " 'Junaid',\n",
       " 'Raheel',\n",
       " 'Khurram',\n",
       " 'Asad']"
      ]
     },
     "execution_count": 13,
     "metadata": {},
     "output_type": "execute_result"
    }
   ],
   "source": [
    "lst.extend(lst2)\n",
    "lst"
   ]
  },
  {
   "cell_type": "code",
   "execution_count": 14,
   "metadata": {},
   "outputs": [
    {
     "data": {
      "text/plain": [
       "7"
      ]
     },
     "execution_count": 14,
     "metadata": {},
     "output_type": "execute_result"
    }
   ],
   "source": [
    "lst.index(\"Raheel\")"
   ]
  },
  {
   "cell_type": "code",
   "execution_count": 15,
   "metadata": {},
   "outputs": [],
   "source": [
    "lst.insert(8, \"Salman\")"
   ]
  },
  {
   "cell_type": "code",
   "execution_count": 16,
   "metadata": {},
   "outputs": [
    {
     "data": {
      "text/plain": [
       "['Ali',\n",
       " 'Khadim',\n",
       " 'Hassan',\n",
       " 'Murtaza',\n",
       " 'Nash',\n",
       " 'Atta',\n",
       " 'Junaid',\n",
       " 'Raheel',\n",
       " 'Salman',\n",
       " 'Khurram',\n",
       " 'Asad']"
      ]
     },
     "execution_count": 16,
     "metadata": {},
     "output_type": "execute_result"
    }
   ],
   "source": [
    "lst"
   ]
  },
  {
   "cell_type": "code",
   "execution_count": 17,
   "metadata": {},
   "outputs": [
    {
     "data": {
      "text/plain": [
       "['Ali',\n",
       " 'Khadim',\n",
       " 'Hassan',\n",
       " 'Murtaza',\n",
       " 'Nash',\n",
       " 'Atta',\n",
       " 'Junaid',\n",
       " 'Raheel',\n",
       " 'Salman',\n",
       " 'Khurram']"
      ]
     },
     "execution_count": 17,
     "metadata": {},
     "output_type": "execute_result"
    }
   ],
   "source": [
    "lst.pop()\n",
    "lst"
   ]
  },
  {
   "cell_type": "code",
   "execution_count": 18,
   "metadata": {},
   "outputs": [
    {
     "data": {
      "text/plain": [
       "['Ali',\n",
       " 'Khadim',\n",
       " 'Hassan',\n",
       " 'Murtaza',\n",
       " 'Nash',\n",
       " 'Atta',\n",
       " 'Junaid',\n",
       " 'Raheel',\n",
       " 'Salman']"
      ]
     },
     "execution_count": 18,
     "metadata": {},
     "output_type": "execute_result"
    }
   ],
   "source": [
    "lst.remove(\"Khurram\")\n",
    "lst"
   ]
  },
  {
   "cell_type": "code",
   "execution_count": 19,
   "metadata": {},
   "outputs": [
    {
     "data": {
      "text/plain": [
       "['Salman',\n",
       " 'Raheel',\n",
       " 'Junaid',\n",
       " 'Atta',\n",
       " 'Nash',\n",
       " 'Murtaza',\n",
       " 'Hassan',\n",
       " 'Khadim',\n",
       " 'Ali']"
      ]
     },
     "execution_count": 19,
     "metadata": {},
     "output_type": "execute_result"
    }
   ],
   "source": [
    "lst.reverse()\n",
    "lst"
   ]
  },
  {
   "cell_type": "code",
   "execution_count": 20,
   "metadata": {},
   "outputs": [
    {
     "ename": "TypeError",
     "evalue": "'casefold' is an invalid keyword argument for sort()",
     "output_type": "error",
     "traceback": [
      "\u001b[1;31m---------------------------------------------------------------------------\u001b[0m",
      "\u001b[1;31mTypeError\u001b[0m                                 Traceback (most recent call last)",
      "\u001b[1;32m<ipython-input-20-32cc0756e3e7>\u001b[0m in \u001b[0;36m<module>\u001b[1;34m\u001b[0m\n\u001b[1;32m----> 1\u001b[1;33m \u001b[0mlst\u001b[0m\u001b[1;33m.\u001b[0m\u001b[0msort\u001b[0m\u001b[1;33m(\u001b[0m\u001b[0mcasefold\u001b[0m\u001b[1;33m=\u001b[0m\u001b[1;32mTrue\u001b[0m\u001b[1;33m)\u001b[0m\u001b[1;33m\u001b[0m\u001b[1;33m\u001b[0m\u001b[0m\n\u001b[0m",
      "\u001b[1;31mTypeError\u001b[0m: 'casefold' is an invalid keyword argument for sort()"
     ]
    }
   ],
   "source": [
    "lst.sort(casefold=True)"
   ]
  },
  {
   "cell_type": "code",
   "execution_count": null,
   "metadata": {},
   "outputs": [],
   "source": []
  }
 ],
 "metadata": {
  "kernelspec": {
   "display_name": "Python 3",
   "language": "python",
   "name": "python3"
  },
  "language_info": {
   "codemirror_mode": {
    "name": "ipython",
    "version": 3
   },
   "file_extension": ".py",
   "mimetype": "text/x-python",
   "name": "python",
   "nbconvert_exporter": "python",
   "pygments_lexer": "ipython3",
   "version": "3.7.4"
  }
 },
 "nbformat": 4,
 "nbformat_minor": 2
}
