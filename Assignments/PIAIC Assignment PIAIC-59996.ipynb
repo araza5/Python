{
 "cells": [
  {
   "cell_type": "markdown",
   "metadata": {},
   "source": [
    "# Name: Ali Raza  RollNo: PIAIC59996  Bahria Auditorium  12:00PM - 3:00PM"
   ]
  },
  {
   "cell_type": "markdown",
   "metadata": {},
   "source": [
    "# Operation on 20 Operands"
   ]
  },
  {
   "cell_type": "code",
   "execution_count": 21,
   "metadata": {},
   "outputs": [
    {
     "data": {
      "text/plain": [
       "948.0"
      ]
     },
     "execution_count": 21,
     "metadata": {},
     "output_type": "execute_result"
    }
   ],
   "source": [
    "total = (121+12-36 *(234//45)%34+950/3*15-20%5-23*128+209*(54-2)/(33-10)*16)//10\n",
    "total"
   ]
  },
  {
   "cell_type": "markdown",
   "metadata": {},
   "source": [
    "# All String Functions"
   ]
  },
  {
   "cell_type": "code",
   "execution_count": 20,
   "metadata": {},
   "outputs": [
    {
     "data": {
      "text/plain": [
       "'The quick brown fox jumps over the lazy dog.'"
      ]
     },
     "execution_count": 20,
     "metadata": {},
     "output_type": "execute_result"
    }
   ],
   "source": [
    "strTest = \"The quick brown fox jumps over the lazy dog.\"\n",
    "strTest"
   ]
  },
  {
   "cell_type": "code",
   "execution_count": 1,
   "metadata": {},
   "outputs": [
    {
     "data": {
      "text/plain": [
       "'This is test string.'"
      ]
     },
     "execution_count": 1,
     "metadata": {},
     "output_type": "execute_result"
    }
   ],
   "source": [
    "#capitalize()  Return a capitalized version of S, i.e. make the first character\n",
    "strTest2 = \"this is test string.\"\n",
    "strTest2.capitalize()"
   ]
  },
  {
   "cell_type": "code",
   "execution_count": 4,
   "metadata": {},
   "outputs": [
    {
     "data": {
      "text/plain": [
       "True"
      ]
     },
     "execution_count": 4,
     "metadata": {},
     "output_type": "execute_result"
    }
   ],
   "source": [
    "#casefold() Return a version of S suitable for caseless comparisons.\n",
    "strTest.casefold()==\"the quick brown fox jumps over the lazy dog.\""
   ]
  },
  {
   "cell_type": "code",
   "execution_count": 18,
   "metadata": {},
   "outputs": [
    {
     "data": {
      "text/plain": [
       "'--------The quick brown fox jumps over the lazy dog.--------'"
      ]
     },
     "execution_count": 18,
     "metadata": {},
     "output_type": "execute_result"
    }
   ],
   "source": [
    "#center() Return S centered in a string of length width. Padding is done using the specified fill character (default is a space)\n",
    "str2 =strTest.center(60, \"-\")\n",
    "str2"
   ]
  },
  {
   "cell_type": "code",
   "execution_count": 25,
   "metadata": {},
   "outputs": [
    {
     "data": {
      "text/plain": [
       "1"
      ]
     },
     "execution_count": 25,
     "metadata": {},
     "output_type": "execute_result"
    }
   ],
   "source": [
    "#count Return the number of non-overlapping occurrences of substring sub in string S[start:end].  Optional arguments start and end are interpreted as in slice notation. \n",
    "strTest.count(\"the\",30,40)"
   ]
  },
  {
   "cell_type": "code",
   "execution_count": 29,
   "metadata": {},
   "outputs": [
    {
     "data": {
      "text/plain": [
       "b'\\xff\\xfeT\\x00h\\x00e\\x00 \\x00q\\x00u\\x00i\\x00c\\x00k\\x00 \\x00b\\x00r\\x00o\\x00w\\x00n\\x00 \\x00f\\x00o\\x00x\\x00 \\x00j\\x00u\\x00m\\x00p\\x00s\\x00 \\x00o\\x00v\\x00e\\x00r\\x00 \\x00t\\x00h\\x00e\\x00 \\x00l\\x00a\\x00z\\x00y\\x00 \\x00d\\x00o\\x00g\\x00.\\x00'"
      ]
     },
     "execution_count": 29,
     "metadata": {},
     "output_type": "execute_result"
    }
   ],
   "source": [
    "#encode() Encode S using the codec registered for encoding. Default encoding\n",
    "#is 'utf-8'. errors may be given to set a different error\n",
    "#handling scheme. Default is 'strict' meaning that encoding errors raise\n",
    "#a UnicodeEncodeError. Other possible values are 'ignore', 'replace' and\n",
    "#'xmlcharrefreplace' as well as any other name registered with\n",
    "#codecs.register_error that can handle UnicodeEncodeErrors.\n",
    "strTest.encode(encoding='utf-16')"
   ]
  },
  {
   "cell_type": "code",
   "execution_count": 30,
   "metadata": {},
   "outputs": [
    {
     "data": {
      "text/plain": [
       "b'The quick brown fox jumps over the lazy dog.'"
      ]
     },
     "execution_count": 30,
     "metadata": {},
     "output_type": "execute_result"
    }
   ],
   "source": [
    "#encode() Encode S using the codec registered for encoding. Default encoding\n",
    "#is 'utf-8'. errors may be given to set a different error\n",
    "#handling scheme. Default is 'strict' meaning that encoding errors raise\n",
    "#a UnicodeEncodeError. Other possible values are 'ignore', 'replace' and\n",
    "#'xmlcharrefreplace' as well as any other name registered with\n",
    "#codecs.register_error that can handle UnicodeEncodeErrors.\n",
    "\n",
    "strTest.encode(encoding='utf-8')"
   ]
  },
  {
   "cell_type": "code",
   "execution_count": 31,
   "metadata": {},
   "outputs": [
    {
     "data": {
      "text/plain": [
       "True"
      ]
     },
     "execution_count": 31,
     "metadata": {},
     "output_type": "execute_result"
    }
   ],
   "source": [
    "#endswith() Return True if S ends with the specified suffix, False otherwise.\n",
    "#With optional start, test S beginning at that position.\n",
    "#With optional end, stop comparing S at that position.\n",
    "#suffix can also be a tuple of strings to try.\n",
    "strTest.endswith(\"dog.\")"
   ]
  },
  {
   "cell_type": "code",
   "execution_count": 32,
   "metadata": {},
   "outputs": [
    {
     "data": {
      "text/plain": [
       "44"
      ]
     },
     "execution_count": 32,
     "metadata": {},
     "output_type": "execute_result"
    }
   ],
   "source": [
    "len(strTest)"
   ]
  },
  {
   "cell_type": "code",
   "execution_count": 35,
   "metadata": {},
   "outputs": [
    {
     "data": {
      "text/plain": [
       "True"
      ]
     },
     "execution_count": 35,
     "metadata": {},
     "output_type": "execute_result"
    }
   ],
   "source": [
    "strTest.endswith(\"lazy\", 0,39)"
   ]
  },
  {
   "cell_type": "code",
   "execution_count": 37,
   "metadata": {},
   "outputs": [
    {
     "data": {
      "text/plain": [
       "'this string              contains                 tabs.'"
      ]
     },
     "execution_count": 37,
     "metadata": {},
     "output_type": "execute_result"
    }
   ],
   "source": [
    "#expandtabs() Return a copy of S where all tab characters are expanded using spaces.\n",
    "#If tabsize is not given, a tab size of 8 characters is assumed.\n",
    "\n",
    "str2 = \"this string\\tcontains\\ttabs.\"\n",
    "str2.expandtabs(25)"
   ]
  },
  {
   "cell_type": "code",
   "execution_count": 39,
   "metadata": {},
   "outputs": [
    {
     "data": {
      "text/plain": [
       "16"
      ]
     },
     "execution_count": 39,
     "metadata": {},
     "output_type": "execute_result"
    }
   ],
   "source": [
    "#find() Return the lowest index in S where substring sub is found,\n",
    "#such that sub is contained within S[start:end].  Optional\n",
    "#arguments start and end are interpreted as in slice notation.\n",
    "strTest.find(\"fox\")"
   ]
  },
  {
   "cell_type": "code",
   "execution_count": 50,
   "metadata": {},
   "outputs": [
    {
     "name": "stdout",
     "output_type": "stream",
     "text": [
      "Diagram: Rectangle\n",
      "Height: 10\n",
      "Width: 20\n"
     ]
    }
   ],
   "source": [
    "#format() Return a formatted version of S, using substitutions from args and kwargs.\n",
    "#The substitutions are identified by braces ('{' and '}').\n",
    "str2 = \"Diagram: {}\\nHeight: {}\\nWidth: {}\"\n",
    "print(str2.format(\"Rectangle\", 10,20))"
   ]
  },
  {
   "cell_type": "code",
   "execution_count": 51,
   "metadata": {},
   "outputs": [
    {
     "data": {
      "text/plain": [
       "'My name is Ali Raza. I live in Islamabad. My rollNo is PIAIC59996'"
      ]
     },
     "execution_count": 51,
     "metadata": {},
     "output_type": "execute_result"
    }
   ],
   "source": [
    "#Return a formatted version of S, using substitutions from mapping.\n",
    "#The substitutions are identified by braces ('{' and '}').\n",
    "\n",
    "myinfo = {\"name\":\"Ali Raza\", \"address\":\"Islamabad\", \"roll_no\":\"PIAIC59996\"}\n",
    "str2 = \"My name is {name}. I live in {address}. My rollNo is {roll_no}\"\n",
    "str2.format_map(myinfo)"
   ]
  },
  {
   "cell_type": "code",
   "execution_count": 52,
   "metadata": {},
   "outputs": [
    {
     "data": {
      "text/plain": [
       "40"
      ]
     },
     "execution_count": 52,
     "metadata": {},
     "output_type": "execute_result"
    }
   ],
   "source": [
    "#index() Return the lowest index in S where substring sub is found, \n",
    "#such that sub is contained within S[start:end].  Optional\n",
    "#arguments start and end are interpreted as in slice notation.\n",
    "strTest.index(\"dog\")"
   ]
  },
  {
   "cell_type": "code",
   "execution_count": 60,
   "metadata": {},
   "outputs": [
    {
     "data": {
      "text/plain": [
       "True"
      ]
     },
     "execution_count": 60,
     "metadata": {},
     "output_type": "execute_result"
    }
   ],
   "source": [
    "#isalnum() Return True if all characters in S are alphanumeric\n",
    "#and there is at least one character in S, False otherwise.\n",
    "s = \"ThisIsAlphaNumericStringItCanContainNumbersLike123ButNoSpecialCharsOrSpaces\"\n",
    "s.isalnum()"
   ]
  },
  {
   "cell_type": "code",
   "execution_count": 66,
   "metadata": {},
   "outputs": [
    {
     "data": {
      "text/plain": [
       "True"
      ]
     },
     "execution_count": 66,
     "metadata": {},
     "output_type": "execute_result"
    }
   ],
   "source": [
    "#isalpha() Return True if all characters in S are alphabetic\n",
    "s=\"ThisCannotContainNumbersAsWellOnlyAlphabeticsAllowed\"\n",
    "s.isalpha()"
   ]
  },
  {
   "cell_type": "code",
   "execution_count": 69,
   "metadata": {},
   "outputs": [
    {
     "data": {
      "text/plain": [
       "True"
      ]
     },
     "execution_count": 69,
     "metadata": {},
     "output_type": "execute_result"
    }
   ],
   "source": [
    "#isdecimal() -> bool Return True if there are only decimal characters in S,\n",
    "#False otherwise.\n",
    "s =\"1212\"\n",
    "s.isdecimal()"
   ]
  },
  {
   "cell_type": "code",
   "execution_count": 70,
   "metadata": {},
   "outputs": [
    {
     "data": {
      "text/plain": [
       "True"
      ]
     },
     "execution_count": 70,
     "metadata": {},
     "output_type": "execute_result"
    }
   ],
   "source": [
    "# isdigit() -> bool Return True if all characters in S are digits and there is at least one character in S, False otherwise.\n",
    "s.isdigit()"
   ]
  },
  {
   "cell_type": "code",
   "execution_count": 72,
   "metadata": {},
   "outputs": [
    {
     "data": {
      "text/plain": [
       "True"
      ]
     },
     "execution_count": 72,
     "metadata": {},
     "output_type": "execute_result"
    }
   ],
   "source": [
    "# isidentifier() -> bool Return True if S is a valid identifier according to the language definition.\n",
    "#Use keyword.iskeyword() to test for reserved identifiers such as \"def\" and \"class\".\n",
    "s=\"abc_123\"\n",
    "s.isidentifier()"
   ]
  },
  {
   "cell_type": "code",
   "execution_count": 73,
   "metadata": {},
   "outputs": [
    {
     "data": {
      "text/plain": [
       "False"
      ]
     },
     "execution_count": 73,
     "metadata": {},
     "output_type": "execute_result"
    }
   ],
   "source": [
    "#islower() -> bool\n",
    "#Return True if all cased characters in S are lowercase and there is\n",
    "#at least one cased character in S, False otherwise.\n",
    "\n",
    "strTest.islower()"
   ]
  },
  {
   "cell_type": "code",
   "execution_count": 79,
   "metadata": {},
   "outputs": [
    {
     "data": {
      "text/plain": [
       "True"
      ]
     },
     "execution_count": 79,
     "metadata": {},
     "output_type": "execute_result"
    }
   ],
   "source": [
    "#isnumeric() -> bool\n",
    "#Return True if there are only numeric characters in S,\n",
    "#False otherwise.\n",
    "s=\"125233\"\n",
    "s.isnumeric()"
   ]
  },
  {
   "cell_type": "code",
   "execution_count": 81,
   "metadata": {},
   "outputs": [
    {
     "data": {
      "text/plain": [
       "True"
      ]
     },
     "execution_count": 81,
     "metadata": {},
     "output_type": "execute_result"
    }
   ],
   "source": [
    "#isprintable() -> bool\n",
    "#Return True if all characters in S are considered\n",
    "#printable in repr() or S is empty, False otherwise.\n",
    "strTest.isprintable()"
   ]
  },
  {
   "cell_type": "code",
   "execution_count": 84,
   "metadata": {},
   "outputs": [
    {
     "data": {
      "text/plain": [
       "True"
      ]
     },
     "execution_count": 84,
     "metadata": {},
     "output_type": "execute_result"
    }
   ],
   "source": [
    "#isspace() -> bool\n",
    "#Return True if all characters in S are whitespace\n",
    "#and there is at least one character in S, False otherwise.\n",
    "s =\"\\t\\n\"\n",
    "s.isspace()"
   ]
  },
  {
   "cell_type": "code",
   "execution_count": 85,
   "metadata": {},
   "outputs": [
    {
     "data": {
      "text/plain": [
       "True"
      ]
     },
     "execution_count": 85,
     "metadata": {},
     "output_type": "execute_result"
    }
   ],
   "source": [
    "#istitle() -> bool\n",
    "\n",
    "#Return True if S is a titlecased string and there is at least one\n",
    "#character in S, i.e. upper- and titlecase characters may only\n",
    "#follow uncased characters and lowercase characters only cased ones.\n",
    "#Return False otherwise.\n",
    "\n",
    "s =\"This Is Title Case\"\n",
    "s.istitle()"
   ]
  },
  {
   "cell_type": "code",
   "execution_count": 86,
   "metadata": {},
   "outputs": [
    {
     "data": {
      "text/plain": [
       "True"
      ]
     },
     "execution_count": 86,
     "metadata": {},
     "output_type": "execute_result"
    }
   ],
   "source": [
    "#isupper() -> bool\n",
    "#Return True if all cased characters in S are uppercase and there is\n",
    "#at least one cased character in S, False otherwise.\n",
    "s=\"UPPER CASE\"\n",
    "s.isupper()"
   ]
  },
  {
   "cell_type": "code",
   "execution_count": 89,
   "metadata": {},
   "outputs": [
    {
     "data": {
      "text/plain": [
       "'this is iterable list.'"
      ]
     },
     "execution_count": 89,
     "metadata": {},
     "output_type": "execute_result"
    }
   ],
   "source": [
    "#S.join(iterable) -> str\n",
    "#Return a string which is the concatenation of the strings in the\n",
    "#iterable.  The separator between elements is S.\n",
    "iterable = [\"this\",\"is\",\"iterable\",\"list.\"]\n",
    "\" \".join(iterable)"
   ]
  },
  {
   "cell_type": "code",
   "execution_count": 94,
   "metadata": {},
   "outputs": [
    {
     "data": {
      "text/plain": [
       "'this will be left justified-----------------------'"
      ]
     },
     "execution_count": 94,
     "metadata": {},
     "output_type": "execute_result"
    }
   ],
   "source": [
    "#ljust() -> str\n",
    "#Return S left-justified in a Unicode string of length width. Padding is\n",
    "#done using the specified fill character (default is a space).\n",
    "s= \"this will be left justified\"\n",
    "s.ljust(50,'-')"
   ]
  },
  {
   "cell_type": "code",
   "execution_count": 95,
   "metadata": {},
   "outputs": [
    {
     "data": {
      "text/plain": [
       "'the quick brown fox jumps over the lazy dog.'"
      ]
     },
     "execution_count": 95,
     "metadata": {},
     "output_type": "execute_result"
    }
   ],
   "source": [
    "#lower() -> str\n",
    "#Return a copy of the string S converted to lowercase.\n",
    "\n",
    "strTest.lower()"
   ]
  },
  {
   "cell_type": "code",
   "execution_count": 96,
   "metadata": {},
   "outputs": [
    {
     "data": {
      "text/plain": [
       "'Left spaces will be removed.'"
      ]
     },
     "execution_count": 96,
     "metadata": {},
     "output_type": "execute_result"
    }
   ],
   "source": [
    "#lstrip([chars]) -> str\n",
    "#Return a copy of the string S with leading whitespace removed.\n",
    "#If chars is given and not None, remove characters in chars instead.\n",
    "\n",
    "s = \"          \\t\\nLeft spaces will be removed.\"\n",
    "s.lstrip()"
   ]
  },
  {
   "cell_type": "code",
   "execution_count": 98,
   "metadata": {},
   "outputs": [
    {
     "data": {
      "text/plain": [
       "'The quiik rown fox jumps over the lzy dog.'"
      ]
     },
     "execution_count": 98,
     "metadata": {},
     "output_type": "execute_result"
    }
   ],
   "source": [
    "#maketrans(x, y=None, z=None, /)\n",
    "#Docstring: Return a translation table usable for str.translate().\n",
    "#If there is only one argument, it must be a dictionary mapping Unicode\n",
    "#ordinals (integers) or characters to Unicode ordinals, strings or None.\n",
    "#Character keys will be then converted to ordinals.\n",
    "#If there are two arguments, they must be strings of equal length, and\n",
    "#in the resulting dictionary, each character in x will be mapped to the\n",
    "#character at the same position in y. If there is a third argument, it\n",
    "#must be a string, whose characters will be mapped to None in the result.\n",
    "\n",
    "s1 = \"abc\"\n",
    "s2= \"ghi\"\n",
    "s3 = \"ab\"\n",
    "transl= strTest.maketrans(s1,s2,s3)\n",
    "strTest.translate(transl)"
   ]
  },
  {
   "cell_type": "code",
   "execution_count": 101,
   "metadata": {},
   "outputs": [
    {
     "data": {
      "text/plain": [
       "('The quick brown fox jumps over ', 'the', ' lazy dog.')"
      ]
     },
     "execution_count": 101,
     "metadata": {},
     "output_type": "execute_result"
    }
   ],
   "source": [
    "#partition(sep) -> (head, sep, tail)\n",
    "#Search for the separator sep in S, and return the part before it,\n",
    "#the separator itself, and the part after it.  If the separator is not\n",
    "#found, return S and two empty strings.\n",
    "strTest.partition(\"the\")"
   ]
  },
  {
   "cell_type": "code",
   "execution_count": 102,
   "metadata": {},
   "outputs": [
    {
     "data": {
      "text/plain": [
       "'A quick brown fox jumps over the lazy dog.'"
      ]
     },
     "execution_count": 102,
     "metadata": {},
     "output_type": "execute_result"
    }
   ],
   "source": [
    "#replace() Return a copy of S with all occurrences of substring\n",
    "#old replaced by new.  If the optional argument count is\n",
    "#given, only the first count occurrences are replaced.\n",
    "strTest.replace(\"The\", \"A\")"
   ]
  },
  {
   "cell_type": "code",
   "execution_count": 103,
   "metadata": {},
   "outputs": [
    {
     "data": {
      "text/plain": [
       "91"
      ]
     },
     "execution_count": 103,
     "metadata": {},
     "output_type": "execute_result"
    }
   ],
   "source": [
    "#rfind(sub[, start[, end]]) -> int\n",
    "#Return the highest index in S where substring sub is found,\n",
    "#such that sub is contained within S[start:end].  Optional\n",
    "#arguments start and end are interpreted as in slice notation.\n",
    "\n",
    "s = \"this will not find the index of first occurance of this but the index of last occurance of this instead.\"\n",
    "s.rfind(\"this\")"
   ]
  },
  {
   "cell_type": "code",
   "execution_count": 104,
   "metadata": {},
   "outputs": [
    {
     "data": {
      "text/plain": [
       "91"
      ]
     },
     "execution_count": 104,
     "metadata": {},
     "output_type": "execute_result"
    }
   ],
   "source": [
    "#rindex(sub[, start[, end]]) -> int\n",
    "#Return the highest index in S where substring sub is found,\n",
    "#such that sub is contained within S[start:end].  Optional\n",
    "#arguments start and end are interpreted as in slice notation.\n",
    "s.rindex(\"this\")"
   ]
  },
  {
   "cell_type": "code",
   "execution_count": 106,
   "metadata": {},
   "outputs": [
    {
     "data": {
      "text/plain": [
       "'----------------------------------------------this will not find the index of first occurance of this but the index of last occurance of this instead.'"
      ]
     },
     "execution_count": 106,
     "metadata": {},
     "output_type": "execute_result"
    }
   ],
   "source": [
    "#rjust(width[, fillchar]) -> str\n",
    "#Return S right-justified in a string of length width. Padding is\n",
    "#done using the specified fill character (default is a space).\n",
    "s.rjust(150,\"-\")"
   ]
  },
  {
   "cell_type": "code",
   "execution_count": 107,
   "metadata": {},
   "outputs": [
    {
     "data": {
      "text/plain": [
       "('this will not find the index of first occurance of this but the index of last occurance of ',\n",
       " 'this',\n",
       " ' instead.')"
      ]
     },
     "execution_count": 107,
     "metadata": {},
     "output_type": "execute_result"
    }
   ],
   "source": [
    "#rpartition(sep) -> (head, sep, tail)\n",
    "#Search for the separator sep in S, starting at the end of S, and return\n",
    "#the part before it, the separator itself, and the part after it.  If the\n",
    "#separator is not found, return two empty strings and S.\n",
    "\n",
    "s.rpartition(\"this\")"
   ]
  },
  {
   "cell_type": "code",
   "execution_count": 108,
   "metadata": {},
   "outputs": [
    {
     "data": {
      "text/plain": [
       "['this will not find the index of first occurance of this but the index',\n",
       " 'of',\n",
       " 'last',\n",
       " 'occurance',\n",
       " 'of',\n",
       " 'this',\n",
       " 'instead.']"
      ]
     },
     "execution_count": 108,
     "metadata": {},
     "output_type": "execute_result"
    }
   ],
   "source": [
    "#rsplit(sep=None, maxsplit=-1) -> list of strings\n",
    "#Return a list of the words in S, using sep as the\n",
    "#delimiter string, starting at the end of the string and\n",
    "#working to the front.  If maxsplit is given, at most maxsplit\n",
    "#splits are done\n",
    "\n",
    "s.rsplit(\" \", 6)"
   ]
  },
  {
   "cell_type": "code",
   "execution_count": 110,
   "metadata": {},
   "outputs": [
    {
     "data": {
      "text/plain": [
       "['this',\n",
       " 'will',\n",
       " 'not',\n",
       " 'find',\n",
       " 'the',\n",
       " 'index',\n",
       " 'of',\n",
       " 'first',\n",
       " 'occurance',\n",
       " 'of',\n",
       " 'this',\n",
       " 'but',\n",
       " 'the',\n",
       " 'index',\n",
       " 'of',\n",
       " 'last',\n",
       " 'occurance',\n",
       " 'of',\n",
       " 'this',\n",
       " 'instead.']"
      ]
     },
     "execution_count": 110,
     "metadata": {},
     "output_type": "execute_result"
    }
   ],
   "source": [
    "#split(sep=None, maxsplit=-1) -> list of strings\n",
    "#Return a list of the words in S, using sep as the\n",
    "#delimiter string.  If maxsplit is given, at most maxsplit\n",
    "#splits are done. If sep is not specified or is None, any\n",
    "#whitespace string is a separator and empty strings are\n",
    "#removed from the result.\n",
    "\n",
    "s.split(\" \")"
   ]
  },
  {
   "cell_type": "code",
   "execution_count": 114,
   "metadata": {},
   "outputs": [
    {
     "data": {
      "text/plain": [
       "['This string contains ', 'new line characters']"
      ]
     },
     "execution_count": 114,
     "metadata": {},
     "output_type": "execute_result"
    }
   ],
   "source": [
    "#splitlines([keepends]) -> list of strings\n",
    "#Return a list of the lines in S, breaking at line boundaries.\n",
    "#Line breaks are not included in the resulting list unless keepends\n",
    "#is given and true.\n",
    "\n",
    "s = \"This string contains \\nnew line characters\"\n",
    "s.splitlines(False)"
   ]
  },
  {
   "cell_type": "code",
   "execution_count": 115,
   "metadata": {},
   "outputs": [
    {
     "data": {
      "text/plain": [
       "True"
      ]
     },
     "execution_count": 115,
     "metadata": {},
     "output_type": "execute_result"
    }
   ],
   "source": [
    "#startswith(prefix[, start[, end]]) -> bool\n",
    "#Return True if S starts with the specified prefix, False otherwise.\n",
    "#With optional start, test S beginning at that position.\n",
    "#With optional end, stop comparing S at that position.\n",
    "#prefix can also be a tuple of strings to try.\n",
    "\n",
    "s.startswith(\"This\")"
   ]
  },
  {
   "cell_type": "code",
   "execution_count": 116,
   "metadata": {},
   "outputs": [
    {
     "data": {
      "text/plain": [
       "'This string has leading and ending spaces but these can be strip.'"
      ]
     },
     "execution_count": 116,
     "metadata": {},
     "output_type": "execute_result"
    }
   ],
   "source": [
    "#strip([chars]) -> str\n",
    "#Return a copy of the string S with leading and trailing\n",
    "#whitespace removed.\n",
    "#If chars is given and not None, remove characters in chars instead.\n",
    "\n",
    "s= \"            This string has leading and ending spaces but these can be strip.         \"\n",
    "s.strip()"
   ]
  },
  {
   "cell_type": "code",
   "execution_count": 118,
   "metadata": {},
   "outputs": [
    {
     "data": {
      "text/plain": [
       "'tHIS STRING HAS LEADING AND ENDING SPACES BUT THESE CAN BE STRIP.'"
      ]
     },
     "execution_count": 118,
     "metadata": {},
     "output_type": "execute_result"
    }
   ],
   "source": [
    "#swapcase() -> str\n",
    "#Return a copy of S with uppercase characters converted to lowercase\n",
    "#and vice versa.\n",
    "\n",
    "s.strip().swapcase()"
   ]
  },
  {
   "cell_type": "code",
   "execution_count": 119,
   "metadata": {},
   "outputs": [
    {
     "data": {
      "text/plain": [
       "'            This String Has Leading And Ending Spaces But These Can Be Strip.         '"
      ]
     },
     "execution_count": 119,
     "metadata": {},
     "output_type": "execute_result"
    }
   ],
   "source": [
    "#title() -> str\n",
    "#Return a titlecased version of S, i.e. words start with title case\n",
    "#characters, all remaining cased characters have lower case.\n",
    "\n",
    "s.title()"
   ]
  },
  {
   "cell_type": "code",
   "execution_count": 120,
   "metadata": {},
   "outputs": [
    {
     "data": {
      "text/plain": [
       "'The quiik rown fox jumps over the lzy dog.'"
      ]
     },
     "execution_count": 120,
     "metadata": {},
     "output_type": "execute_result"
    }
   ],
   "source": [
    "#translate(table) -> str\n",
    "#Return a copy of the string S in which each character has been mapped\n",
    "#through the given translation table. The table must implement\n",
    "#lookup/indexing via __getitem__, for instance a dictionary or list,\n",
    "#mapping Unicode ordinals to Unicode ordinals, strings, or None. If\n",
    "#this operation raises LookupError, the character is left untouched.\n",
    "#Characters mapped to None are deleted.\n",
    "\n",
    "s1 = \"abc\"\n",
    "s2= \"ghi\"\n",
    "s3 = \"ab\"\n",
    "transl= strTest.maketrans(s1,s2,s3)\n",
    "strTest.translate(transl)"
   ]
  },
  {
   "cell_type": "code",
   "execution_count": 121,
   "metadata": {},
   "outputs": [
    {
     "data": {
      "text/plain": [
       "'THE QUICK BROWN FOX JUMPS OVER THE LAZY DOG.'"
      ]
     },
     "execution_count": 121,
     "metadata": {},
     "output_type": "execute_result"
    }
   ],
   "source": [
    "#upper() -> str\n",
    "#Return a copy of S converted to uppercase.\n",
    "\n",
    "strTest.upper()"
   ]
  },
  {
   "cell_type": "code",
   "execution_count": 123,
   "metadata": {},
   "outputs": [
    {
     "data": {
      "text/plain": [
       "'00123'"
      ]
     },
     "execution_count": 123,
     "metadata": {},
     "output_type": "execute_result"
    }
   ],
   "source": [
    "#zfill(width) -> str\n",
    "#Pad a numeric string S with zeros on the left, to fill a field\n",
    "#of the specified width. The string S is never truncated.\n",
    "\n",
    "s= \"123\"\n",
    "s.zfill(5)"
   ]
  },
  {
   "cell_type": "code",
   "execution_count": null,
   "metadata": {
    "collapsed": true
   },
   "outputs": [],
   "source": []
  }
 ],
 "metadata": {
  "kernelspec": {
   "display_name": "Python 3",
   "language": "python",
   "name": "python3"
  },
  "language_info": {
   "codemirror_mode": {
    "name": "ipython",
    "version": 3
   },
   "file_extension": ".py",
   "mimetype": "text/x-python",
   "name": "python",
   "nbconvert_exporter": "python",
   "pygments_lexer": "ipython3",
   "version": "3.6.2"
  }
 },
 "nbformat": 4,
 "nbformat_minor": 2
}
